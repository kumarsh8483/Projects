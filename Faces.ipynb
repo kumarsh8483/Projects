{
  "nbformat": 4,
  "nbformat_minor": 0,
  "metadata": {
    "colab": {
      "name": "Faces.ipynb",
      "provenance": [],
      "collapsed_sections": [],
      "authorship_tag": "ABX9TyNVCCUy5kaohOm09iElp+m3",
      "include_colab_link": true
    },
    "kernelspec": {
      "name": "python3",
      "display_name": "Python 3"
    },
    "language_info": {
      "name": "python"
    }
  },
  "cells": [
    {
      "cell_type": "markdown",
      "metadata": {
        "id": "view-in-github",
        "colab_type": "text"
      },
      "source": [
        "<a href=\"https://colab.research.google.com/github/kumarsh8483/Projects/blob/main/Faces.ipynb\" target=\"_parent\"><img src=\"https://colab.research.google.com/assets/colab-badge.svg\" alt=\"Open In Colab\"/></a>"
      ]
    },
    {
      "cell_type": "code",
      "execution_count": null,
      "metadata": {
        "id": "vB5ycpcsSbuw"
      },
      "outputs": [],
      "source": [
        ""
      ]
    },
    {
      "cell_type": "code",
      "execution_count": 95,
      "metadata": {
        "id": "349vkogBVbhB"
      },
      "outputs": [],
      "source": [
        "import tensorflow as tf\n",
        "import keras\n",
        "from keras.models import Sequential\n",
        "from keras.layers import Conv2D, MaxPooling2D, Dense, Flatten, Dropout\n",
        "from keras.optimizers import adam_v2\n",
        "from keras.callbacks import TensorBoard\n",
        "\n",
        "import numpy as np\n",
        "import pandas as pd\n",
        "import matplotlib.pyplot as plt\n",
        "from sklearn.model_selection import train_test_split\n",
        "\n",
        "from sklearn.metrics import confusion_matrix\n",
        "from sklearn.metrics import classification_report\n",
        "from sklearn.metrics import roc_curve, auc\n",
        "from sklearn.metrics import accuracy_score\n",
        "from keras.utils import np_utils\n",
        "import itertools"
      ]
    },
    {
      "cell_type": "code",
      "source": [
        "location = r'/ORL_faces.npz'"
      ],
      "metadata": {
        "id": "KPc9hhl_SycP"
      },
      "execution_count": 53,
      "outputs": []
    },
    {
      "cell_type": "code",
      "source": [
        "import os\n",
        "path =  os.path.expanduser(rb'~\\Downloads\\2017.csv')"
      ],
      "metadata": {
        "id": "mnTF8eljS4Dw"
      },
      "execution_count": 4,
      "outputs": []
    },
    {
      "cell_type": "code",
      "source": [
        "data = np.load(location)\n",
        "# load the \"Train Images\"\n",
        "x_train = data['trainX']\n",
        "#normalize every image\n",
        "x_train = np.array(x_train,dtype='float32')/255\n",
        "\n",
        "x_test = data['testX']\n",
        "x_test = np.array(x_test,dtype='float32')/255\n",
        "\n",
        "# load the Label of Images\n",
        "y_train= data['trainY']\n",
        "y_test= data['testY']\n",
        "\n",
        "# show the train and test Data format\n",
        "print('x_train : {}'.format(x_train[:]))\n",
        "print('Y-train shape: {}'.format(y_train))\n",
        "print('x_test shape: {}'.format(x_test.shape))\n",
        "#data =pd.read_csv(r'/Users/dkumar/Downloads/2017.csv')"
      ],
      "metadata": {
        "colab": {
          "base_uri": "https://localhost:8080/"
        },
        "id": "NhBsurDXVWQX",
        "outputId": "e3e24b4b-1e1b-4908-b835-f1b10626fd67"
      },
      "execution_count": 110,
      "outputs": [
        {
          "output_type": "stream",
          "name": "stdout",
          "text": [
            "x_train : [[0.1882353  0.19215687 0.1764706  0.18431373 ... 0.17254902 0.18431373 0.18039216 0.18039216]\n",
            " [0.23529412 0.23529412 0.24313726 0.20784314 ... 0.14509805 0.1254902  0.13333334 0.13333334]\n",
            " [0.15294118 0.17254902 0.20784314 0.14509805 ... 0.12156863 0.11372549 0.10196079 0.11372549]\n",
            " [0.24705882 0.20784314 0.13725491 0.14117648 ... 0.5372549  0.16078432 0.03921569 0.09411765]\n",
            " ...\n",
            " [0.44705883 0.43137255 0.44705883 0.43529412 ... 0.38431373 0.40784314 0.3529412  0.39607844]\n",
            " [0.44705883 0.45882353 0.44705883 0.45882353 ... 0.3882353  0.38431373 0.3764706  0.38431373]\n",
            " [0.4117647  0.4117647  0.41960785 0.41568628 ... 0.11372549 0.21176471 0.18431373 0.16078432]\n",
            " [0.45490196 0.44705883 0.45882353 0.45882353 ... 0.39607844 0.37254903 0.39215687 0.39607844]]\n",
            "Y-train shape: [ 0  0  0  0  0  0  0  0  0  0  0  0  1  1  1  1  1  1  1  1  1  1  1  1  2  2  2  2  2  2  2  2  2  2  2  2  3  3  3  3  3  3  3  3  3  3\n",
            "  3  3  4  4  4  4  4  4  4  4  4  4  4  4  5  5  5  5  5  5  5  5  5  5  5  5  6  6  6  6  6  6  6  6  6  6  6  6  7  7  7  7  7  7  7  7\n",
            "  7  7  7  7  8  8  8  8  8  8  8  8  8  8  8  8  9  9  9  9  9  9  9  9  9  9  9  9 10 10 10 10 10 10 10 10 10 10 10 10 11 11 11 11 11 11\n",
            " 11 11 11 11 11 11 12 12 12 12 12 12 12 12 12 12 12 12 13 13 13 13 13 13 13 13 13 13 13 13 14 14 14 14 14 14 14 14 14 14 14 14 15 15 15 15\n",
            " 15 15 15 15 15 15 15 15 16 16 16 16 16 16 16 16 16 16 16 16 17 17 17 17 17 17 17 17 17 17 17 17 18 18 18 18 18 18 18 18 18 18 18 18 19 19\n",
            " 19 19 19 19 19 19 19 19 19 19]\n",
            "x_test shape: (160, 10304)\n"
          ]
        }
      ]
    },
    {
      "cell_type": "code",
      "source": [
        "#split dataset\n",
        "\n",
        "x_train, x_valid, y_train, y_valid= train_test_split(\n",
        "    x_train, y_train, test_size=.05, random_state=1234)"
      ],
      "metadata": {
        "id": "QsGY1Wo1d5cf"
      },
      "execution_count": 111,
      "outputs": []
    },
    {
      "cell_type": "code",
      "source": [
        "#change the sie of images to feed to CNN\n",
        "\n",
        "im_rows=112\n",
        "im_cols=92\n",
        "batch_size=512\n",
        "im_shape=(im_rows, im_cols, 1)\n",
        "\n",
        "#change the size of images\n",
        "x_train = x_train.reshape(x_train.shape[0], *im_shape)\n",
        "x_test = x_test.reshape(x_test.shape[0], *im_shape)\n",
        "x_valid = x_valid.reshape(x_valid.shape[0], *im_shape)\n",
        "\n",
        "print('x_train shape: {}'.format(y_train.shape[0]))\n",
        "print('x_test shape: {}'.format(y_test.shape))"
      ],
      "metadata": {
        "colab": {
          "base_uri": "https://localhost:8080/"
        },
        "id": "4gfC9wyGd7tB",
        "outputId": "5cc7c5fb-dda2-48d5-fcdc-e07f3c12b8d9"
      },
      "execution_count": 113,
      "outputs": [
        {
          "output_type": "stream",
          "name": "stdout",
          "text": [
            "x_train shape: 228\n",
            "x_test shape: (160,)\n"
          ]
        }
      ]
    },
    {
      "cell_type": "code",
      "source": [
        "#Build a CNN model that has 3 main layers\n",
        "#Convolotional Layer\n",
        "#Pooling Layer\n",
        "#Fully Connected Layer\n",
        "\n",
        "#filters= the depth of output image or kernels\n",
        "\n",
        "cnn_model= Sequential([\n",
        "    Conv2D(filters=36, kernel_size=7, activation='relu', input_shape= im_shape),\n",
        "    MaxPooling2D(pool_size=2),\n",
        "    Conv2D(filters=54, kernel_size=5, activation='relu', input_shape= im_shape),\n",
        "    MaxPooling2D(pool_size=2),\n",
        "    Flatten(),\n",
        "    Dense(2024, activation='relu'),\n",
        "     Dropout(0.5),\n",
        "    Dense(1024, activation='relu'),\n",
        "    Dropout(0.5),\n",
        "    Dense(512, activation='relu'),\n",
        "    Dropout(0.5),\n",
        "    #20 is the number of outputs\n",
        "    Dense(20, activation='softmax')  \n",
        "])\n",
        "\n",
        "cnn_model.compile(\n",
        "    loss='sparse_categorical_crossentropy',#'categorical_crossentropy',\n",
        "    optimizer=adam_v2.Adam(learning_rate=0.0001),\n",
        "    metrics=['accuracy']\n",
        ")\n"
      ],
      "metadata": {
        "id": "GPrImILoeAdN"
      },
      "execution_count": 96,
      "outputs": []
    },
    {
      "cell_type": "code",
      "source": [
        "cnn_model.summary()"
      ],
      "metadata": {
        "colab": {
          "base_uri": "https://localhost:8080/",
          "height": 0
        },
        "id": "XXxq5IFTeEYq",
        "outputId": "4f988004-877a-4bef-c8b6-2d7d9be4121e"
      },
      "execution_count": 97,
      "outputs": [
        {
          "output_type": "stream",
          "name": "stdout",
          "text": [
            "Model: \"sequential_7\"\n",
            "_________________________________________________________________\n",
            " Layer (type)                Output Shape              Param #   \n",
            "=================================================================\n",
            " conv2d_12 (Conv2D)          (None, 106, 86, 36)       1800      \n",
            "                                                                 \n",
            " max_pooling2d_12 (MaxPoolin  (None, 53, 43, 36)       0         \n",
            " g2D)                                                            \n",
            "                                                                 \n",
            " conv2d_13 (Conv2D)          (None, 49, 39, 54)        48654     \n",
            "                                                                 \n",
            " max_pooling2d_13 (MaxPoolin  (None, 24, 19, 54)       0         \n",
            " g2D)                                                            \n",
            "                                                                 \n",
            " flatten_6 (Flatten)         (None, 24624)             0         \n",
            "                                                                 \n",
            " dense_24 (Dense)            (None, 2024)              49841000  \n",
            "                                                                 \n",
            " dropout_18 (Dropout)        (None, 2024)              0         \n",
            "                                                                 \n",
            " dense_25 (Dense)            (None, 1024)              2073600   \n",
            "                                                                 \n",
            " dropout_19 (Dropout)        (None, 1024)              0         \n",
            "                                                                 \n",
            " dense_26 (Dense)            (None, 512)               524800    \n",
            "                                                                 \n",
            " dropout_20 (Dropout)        (None, 512)               0         \n",
            "                                                                 \n",
            " dense_27 (Dense)            (None, 20)                10260     \n",
            "                                                                 \n",
            "=================================================================\n",
            "Total params: 52,500,114\n",
            "Trainable params: 52,500,114\n",
            "Non-trainable params: 0\n",
            "_________________________________________________________________\n"
          ]
        }
      ]
    },
    {
      "cell_type": "code",
      "source": [
        "#train the model\n",
        "history=cnn_model.fit(\n",
        "    np.array(x_train), np.array(y_train), batch_size=512,\n",
        "    epochs=150, verbose=2,\n",
        "    validation_data=(np.array(x_valid),np.array(y_valid)),\n",
        ")"
      ],
      "metadata": {
        "colab": {
          "base_uri": "https://localhost:8080/",
          "height": 0
        },
        "id": "9cQvP5iteNm-",
        "outputId": "6778c313-1ce4-4912-d461-89f7b2eb808d"
      },
      "execution_count": 98,
      "outputs": [
        {
          "output_type": "stream",
          "name": "stdout",
          "text": [
            "Epoch 1/150\n",
            "1/1 - 11s - loss: 3.0151 - accuracy: 0.0570 - val_loss: 2.9752 - val_accuracy: 0.0833 - 11s/epoch - 11s/step\n",
            "Epoch 2/150\n",
            "1/1 - 8s - loss: 3.0078 - accuracy: 0.0482 - val_loss: 2.9824 - val_accuracy: 0.0833 - 8s/epoch - 8s/step\n",
            "Epoch 3/150\n",
            "1/1 - 8s - loss: 2.9887 - accuracy: 0.0746 - val_loss: 2.9830 - val_accuracy: 0.0000e+00 - 8s/epoch - 8s/step\n",
            "Epoch 4/150\n",
            "1/1 - 7s - loss: 3.0035 - accuracy: 0.0789 - val_loss: 2.9870 - val_accuracy: 0.0000e+00 - 7s/epoch - 7s/step\n",
            "Epoch 5/150\n",
            "1/1 - 8s - loss: 2.9711 - accuracy: 0.0789 - val_loss: 2.9953 - val_accuracy: 0.0000e+00 - 8s/epoch - 8s/step\n",
            "Epoch 6/150\n",
            "1/1 - 7s - loss: 3.0406 - accuracy: 0.0570 - val_loss: 3.0008 - val_accuracy: 0.0000e+00 - 7s/epoch - 7s/step\n",
            "Epoch 7/150\n",
            "1/1 - 7s - loss: 3.0078 - accuracy: 0.0614 - val_loss: 3.0033 - val_accuracy: 0.0833 - 7s/epoch - 7s/step\n",
            "Epoch 8/150\n",
            "1/1 - 7s - loss: 3.0011 - accuracy: 0.0526 - val_loss: 3.0021 - val_accuracy: 0.0000e+00 - 7s/epoch - 7s/step\n",
            "Epoch 9/150\n",
            "1/1 - 8s - loss: 2.9832 - accuracy: 0.0658 - val_loss: 3.0013 - val_accuracy: 0.0000e+00 - 8s/epoch - 8s/step\n",
            "Epoch 10/150\n",
            "1/1 - 7s - loss: 3.0055 - accuracy: 0.0526 - val_loss: 2.9992 - val_accuracy: 0.0000e+00 - 7s/epoch - 7s/step\n",
            "Epoch 11/150\n",
            "1/1 - 7s - loss: 3.0105 - accuracy: 0.0482 - val_loss: 2.9981 - val_accuracy: 0.0000e+00 - 7s/epoch - 7s/step\n",
            "Epoch 12/150\n",
            "1/1 - 7s - loss: 2.9835 - accuracy: 0.0702 - val_loss: 2.9947 - val_accuracy: 0.0000e+00 - 7s/epoch - 7s/step\n",
            "Epoch 13/150\n",
            "1/1 - 8s - loss: 3.0034 - accuracy: 0.0526 - val_loss: 2.9899 - val_accuracy: 0.0000e+00 - 8s/epoch - 8s/step\n",
            "Epoch 14/150\n",
            "1/1 - 7s - loss: 2.9746 - accuracy: 0.0702 - val_loss: 2.9873 - val_accuracy: 0.0000e+00 - 7s/epoch - 7s/step\n",
            "Epoch 15/150\n",
            "1/1 - 8s - loss: 2.9796 - accuracy: 0.0833 - val_loss: 2.9843 - val_accuracy: 0.0000e+00 - 8s/epoch - 8s/step\n",
            "Epoch 16/150\n",
            "1/1 - 7s - loss: 2.9764 - accuracy: 0.0482 - val_loss: 2.9817 - val_accuracy: 0.0000e+00 - 7s/epoch - 7s/step\n",
            "Epoch 17/150\n",
            "1/1 - 8s - loss: 2.9767 - accuracy: 0.0965 - val_loss: 2.9796 - val_accuracy: 0.0000e+00 - 8s/epoch - 8s/step\n",
            "Epoch 18/150\n",
            "1/1 - 7s - loss: 2.9506 - accuracy: 0.1009 - val_loss: 2.9781 - val_accuracy: 0.0000e+00 - 7s/epoch - 7s/step\n",
            "Epoch 19/150\n",
            "1/1 - 8s - loss: 2.9807 - accuracy: 0.0570 - val_loss: 2.9767 - val_accuracy: 0.0833 - 8s/epoch - 8s/step\n",
            "Epoch 20/150\n",
            "1/1 - 8s - loss: 2.9451 - accuracy: 0.1009 - val_loss: 2.9752 - val_accuracy: 0.0833 - 8s/epoch - 8s/step\n",
            "Epoch 21/150\n",
            "1/1 - 7s - loss: 2.9423 - accuracy: 0.0833 - val_loss: 2.9734 - val_accuracy: 0.0833 - 7s/epoch - 7s/step\n",
            "Epoch 22/150\n",
            "1/1 - 7s - loss: 2.9365 - accuracy: 0.1360 - val_loss: 2.9700 - val_accuracy: 0.0833 - 7s/epoch - 7s/step\n",
            "Epoch 23/150\n",
            "1/1 - 8s - loss: 2.9330 - accuracy: 0.1096 - val_loss: 2.9666 - val_accuracy: 0.0833 - 8s/epoch - 8s/step\n",
            "Epoch 24/150\n",
            "1/1 - 7s - loss: 2.9319 - accuracy: 0.1184 - val_loss: 2.9628 - val_accuracy: 0.0833 - 7s/epoch - 7s/step\n",
            "Epoch 25/150\n",
            "1/1 - 8s - loss: 2.9056 - accuracy: 0.1316 - val_loss: 2.9559 - val_accuracy: 0.0833 - 8s/epoch - 8s/step\n",
            "Epoch 26/150\n",
            "1/1 - 7s - loss: 2.9093 - accuracy: 0.1623 - val_loss: 2.9492 - val_accuracy: 0.0833 - 7s/epoch - 7s/step\n",
            "Epoch 27/150\n",
            "1/1 - 8s - loss: 2.8935 - accuracy: 0.1447 - val_loss: 2.9407 - val_accuracy: 0.0833 - 8s/epoch - 8s/step\n",
            "Epoch 28/150\n",
            "1/1 - 7s - loss: 2.8905 - accuracy: 0.1842 - val_loss: 2.9320 - val_accuracy: 0.0833 - 7s/epoch - 7s/step\n",
            "Epoch 29/150\n",
            "1/1 - 8s - loss: 2.8831 - accuracy: 0.1579 - val_loss: 2.9202 - val_accuracy: 0.0833 - 8s/epoch - 8s/step\n",
            "Epoch 30/150\n",
            "1/1 - 7s - loss: 2.8591 - accuracy: 0.1447 - val_loss: 2.9079 - val_accuracy: 0.0833 - 7s/epoch - 7s/step\n",
            "Epoch 31/150\n",
            "1/1 - 8s - loss: 2.8275 - accuracy: 0.1711 - val_loss: 2.8950 - val_accuracy: 0.0833 - 8s/epoch - 8s/step\n",
            "Epoch 32/150\n",
            "1/1 - 8s - loss: 2.8243 - accuracy: 0.1754 - val_loss: 2.8782 - val_accuracy: 0.0833 - 8s/epoch - 8s/step\n",
            "Epoch 33/150\n",
            "1/1 - 7s - loss: 2.8110 - accuracy: 0.2105 - val_loss: 2.8576 - val_accuracy: 0.1667 - 7s/epoch - 7s/step\n",
            "Epoch 34/150\n",
            "1/1 - 7s - loss: 2.7845 - accuracy: 0.1667 - val_loss: 2.8331 - val_accuracy: 0.1667 - 7s/epoch - 7s/step\n",
            "Epoch 35/150\n",
            "1/1 - 8s - loss: 2.7971 - accuracy: 0.1798 - val_loss: 2.8058 - val_accuracy: 0.1667 - 8s/epoch - 8s/step\n",
            "Epoch 36/150\n",
            "1/1 - 7s - loss: 2.7768 - accuracy: 0.2018 - val_loss: 2.7769 - val_accuracy: 0.1667 - 7s/epoch - 7s/step\n",
            "Epoch 37/150\n",
            "1/1 - 8s - loss: 2.7549 - accuracy: 0.1974 - val_loss: 2.7459 - val_accuracy: 0.2500 - 8s/epoch - 8s/step\n",
            "Epoch 38/150\n",
            "1/1 - 7s - loss: 2.7446 - accuracy: 0.2412 - val_loss: 2.7129 - val_accuracy: 0.2500 - 7s/epoch - 7s/step\n",
            "Epoch 39/150\n",
            "1/1 - 7s - loss: 2.7085 - accuracy: 0.1842 - val_loss: 2.6794 - val_accuracy: 0.2500 - 7s/epoch - 7s/step\n",
            "Epoch 40/150\n",
            "1/1 - 8s - loss: 2.6751 - accuracy: 0.2149 - val_loss: 2.6411 - val_accuracy: 0.2500 - 8s/epoch - 8s/step\n",
            "Epoch 41/150\n",
            "1/1 - 8s - loss: 2.6369 - accuracy: 0.2237 - val_loss: 2.6000 - val_accuracy: 0.2500 - 8s/epoch - 8s/step\n",
            "Epoch 42/150\n",
            "1/1 - 7s - loss: 2.6041 - accuracy: 0.2632 - val_loss: 2.5566 - val_accuracy: 0.3333 - 7s/epoch - 7s/step\n",
            "Epoch 43/150\n",
            "1/1 - 8s - loss: 2.5849 - accuracy: 0.2500 - val_loss: 2.5217 - val_accuracy: 0.3333 - 8s/epoch - 8s/step\n",
            "Epoch 44/150\n",
            "1/1 - 7s - loss: 2.5726 - accuracy: 0.2544 - val_loss: 2.4796 - val_accuracy: 0.3333 - 7s/epoch - 7s/step\n",
            "Epoch 45/150\n",
            "1/1 - 8s - loss: 2.5095 - accuracy: 0.2456 - val_loss: 2.4340 - val_accuracy: 0.4167 - 8s/epoch - 8s/step\n",
            "Epoch 46/150\n",
            "1/1 - 7s - loss: 2.5168 - accuracy: 0.2544 - val_loss: 2.3895 - val_accuracy: 0.4167 - 7s/epoch - 7s/step\n",
            "Epoch 47/150\n",
            "1/1 - 8s - loss: 2.4372 - accuracy: 0.3026 - val_loss: 2.3453 - val_accuracy: 0.4167 - 8s/epoch - 8s/step\n",
            "Epoch 48/150\n",
            "1/1 - 7s - loss: 2.3455 - accuracy: 0.3421 - val_loss: 2.2988 - val_accuracy: 0.4167 - 7s/epoch - 7s/step\n",
            "Epoch 49/150\n",
            "1/1 - 8s - loss: 2.3502 - accuracy: 0.3421 - val_loss: 2.2495 - val_accuracy: 0.4167 - 8s/epoch - 8s/step\n",
            "Epoch 50/150\n",
            "1/1 - 7s - loss: 2.3098 - accuracy: 0.3421 - val_loss: 2.1919 - val_accuracy: 0.4167 - 7s/epoch - 7s/step\n",
            "Epoch 51/150\n",
            "1/1 - 8s - loss: 2.2205 - accuracy: 0.3465 - val_loss: 2.1275 - val_accuracy: 0.4167 - 8s/epoch - 8s/step\n",
            "Epoch 52/150\n",
            "1/1 - 7s - loss: 2.2199 - accuracy: 0.3333 - val_loss: 2.0595 - val_accuracy: 0.4167 - 7s/epoch - 7s/step\n",
            "Epoch 53/150\n",
            "1/1 - 8s - loss: 2.1064 - accuracy: 0.4035 - val_loss: 1.9897 - val_accuracy: 0.5833 - 8s/epoch - 8s/step\n",
            "Epoch 54/150\n",
            "1/1 - 8s - loss: 2.0933 - accuracy: 0.4123 - val_loss: 1.9297 - val_accuracy: 0.5833 - 8s/epoch - 8s/step\n",
            "Epoch 55/150\n",
            "1/1 - 8s - loss: 2.1035 - accuracy: 0.3684 - val_loss: 1.8759 - val_accuracy: 0.5833 - 8s/epoch - 8s/step\n",
            "Epoch 56/150\n",
            "1/1 - 8s - loss: 2.0258 - accuracy: 0.4035 - val_loss: 1.8309 - val_accuracy: 0.5833 - 8s/epoch - 8s/step\n",
            "Epoch 57/150\n",
            "1/1 - 7s - loss: 1.9819 - accuracy: 0.3991 - val_loss: 1.7678 - val_accuracy: 0.5833 - 7s/epoch - 7s/step\n",
            "Epoch 58/150\n",
            "1/1 - 7s - loss: 1.9444 - accuracy: 0.4211 - val_loss: 1.6995 - val_accuracy: 0.5833 - 7s/epoch - 7s/step\n",
            "Epoch 59/150\n",
            "1/1 - 8s - loss: 1.8646 - accuracy: 0.4649 - val_loss: 1.6239 - val_accuracy: 0.5833 - 8s/epoch - 8s/step\n",
            "Epoch 60/150\n",
            "1/1 - 7s - loss: 1.7383 - accuracy: 0.5088 - val_loss: 1.5600 - val_accuracy: 0.5833 - 7s/epoch - 7s/step\n",
            "Epoch 61/150\n",
            "1/1 - 7s - loss: 1.7311 - accuracy: 0.4868 - val_loss: 1.5000 - val_accuracy: 0.5833 - 7s/epoch - 7s/step\n",
            "Epoch 62/150\n",
            "1/1 - 8s - loss: 1.7197 - accuracy: 0.5132 - val_loss: 1.4296 - val_accuracy: 0.6667 - 8s/epoch - 8s/step\n",
            "Epoch 63/150\n",
            "1/1 - 8s - loss: 1.6978 - accuracy: 0.4825 - val_loss: 1.3563 - val_accuracy: 0.7500 - 8s/epoch - 8s/step\n",
            "Epoch 64/150\n",
            "1/1 - 7s - loss: 1.6229 - accuracy: 0.5132 - val_loss: 1.2878 - val_accuracy: 0.6667 - 7s/epoch - 7s/step\n",
            "Epoch 65/150\n",
            "1/1 - 8s - loss: 1.5182 - accuracy: 0.5482 - val_loss: 1.2385 - val_accuracy: 0.6667 - 8s/epoch - 8s/step\n",
            "Epoch 66/150\n",
            "1/1 - 8s - loss: 1.4782 - accuracy: 0.5570 - val_loss: 1.1763 - val_accuracy: 0.7500 - 8s/epoch - 8s/step\n",
            "Epoch 67/150\n",
            "1/1 - 8s - loss: 1.4494 - accuracy: 0.5658 - val_loss: 1.1087 - val_accuracy: 0.7500 - 8s/epoch - 8s/step\n",
            "Epoch 68/150\n",
            "1/1 - 8s - loss: 1.2615 - accuracy: 0.6360 - val_loss: 1.0448 - val_accuracy: 0.9167 - 8s/epoch - 8s/step\n",
            "Epoch 69/150\n",
            "1/1 - 8s - loss: 1.3523 - accuracy: 0.6096 - val_loss: 1.0019 - val_accuracy: 0.8333 - 8s/epoch - 8s/step\n",
            "Epoch 70/150\n",
            "1/1 - 8s - loss: 1.4108 - accuracy: 0.5877 - val_loss: 0.9593 - val_accuracy: 0.8333 - 8s/epoch - 8s/step\n",
            "Epoch 71/150\n",
            "1/1 - 8s - loss: 1.1929 - accuracy: 0.6360 - val_loss: 0.9102 - val_accuracy: 0.9167 - 8s/epoch - 8s/step\n",
            "Epoch 72/150\n",
            "1/1 - 7s - loss: 1.2336 - accuracy: 0.6535 - val_loss: 0.8520 - val_accuracy: 0.9167 - 7s/epoch - 7s/step\n",
            "Epoch 73/150\n",
            "1/1 - 8s - loss: 1.2098 - accuracy: 0.6184 - val_loss: 0.7913 - val_accuracy: 1.0000 - 8s/epoch - 8s/step\n",
            "Epoch 74/150\n",
            "1/1 - 8s - loss: 1.1024 - accuracy: 0.6667 - val_loss: 0.7500 - val_accuracy: 0.9167 - 8s/epoch - 8s/step\n",
            "Epoch 75/150\n",
            "1/1 - 8s - loss: 1.0482 - accuracy: 0.6842 - val_loss: 0.7297 - val_accuracy: 0.9167 - 8s/epoch - 8s/step\n",
            "Epoch 76/150\n",
            "1/1 - 8s - loss: 0.9727 - accuracy: 0.7237 - val_loss: 0.6740 - val_accuracy: 0.9167 - 8s/epoch - 8s/step\n",
            "Epoch 77/150\n",
            "1/1 - 7s - loss: 0.9661 - accuracy: 0.7018 - val_loss: 0.5805 - val_accuracy: 1.0000 - 7s/epoch - 7s/step\n",
            "Epoch 78/150\n",
            "1/1 - 7s - loss: 0.9216 - accuracy: 0.7281 - val_loss: 0.5191 - val_accuracy: 1.0000 - 7s/epoch - 7s/step\n",
            "Epoch 79/150\n",
            "1/1 - 7s - loss: 0.9246 - accuracy: 0.6930 - val_loss: 0.4820 - val_accuracy: 1.0000 - 7s/epoch - 7s/step\n",
            "Epoch 80/150\n",
            "1/1 - 8s - loss: 0.8053 - accuracy: 0.7544 - val_loss: 0.4615 - val_accuracy: 0.9167 - 8s/epoch - 8s/step\n",
            "Epoch 81/150\n",
            "1/1 - 8s - loss: 0.8433 - accuracy: 0.7632 - val_loss: 0.4243 - val_accuracy: 0.9167 - 8s/epoch - 8s/step\n",
            "Epoch 82/150\n",
            "1/1 - 8s - loss: 0.8853 - accuracy: 0.7149 - val_loss: 0.3749 - val_accuracy: 1.0000 - 8s/epoch - 8s/step\n",
            "Epoch 83/150\n",
            "1/1 - 8s - loss: 0.7792 - accuracy: 0.7719 - val_loss: 0.3696 - val_accuracy: 1.0000 - 8s/epoch - 8s/step\n",
            "Epoch 84/150\n",
            "1/1 - 8s - loss: 0.7055 - accuracy: 0.8158 - val_loss: 0.3753 - val_accuracy: 1.0000 - 8s/epoch - 8s/step\n",
            "Epoch 85/150\n",
            "1/1 - 7s - loss: 0.7368 - accuracy: 0.7500 - val_loss: 0.3820 - val_accuracy: 0.9167 - 7s/epoch - 7s/step\n",
            "Epoch 86/150\n",
            "1/1 - 8s - loss: 0.6304 - accuracy: 0.8158 - val_loss: 0.3537 - val_accuracy: 0.9167 - 8s/epoch - 8s/step\n",
            "Epoch 87/150\n",
            "1/1 - 8s - loss: 0.6332 - accuracy: 0.8246 - val_loss: 0.3332 - val_accuracy: 0.9167 - 8s/epoch - 8s/step\n",
            "Epoch 88/150\n",
            "1/1 - 8s - loss: 0.6862 - accuracy: 0.7851 - val_loss: 0.3067 - val_accuracy: 0.9167 - 8s/epoch - 8s/step\n",
            "Epoch 89/150\n",
            "1/1 - 8s - loss: 0.6112 - accuracy: 0.8333 - val_loss: 0.2761 - val_accuracy: 1.0000 - 8s/epoch - 8s/step\n",
            "Epoch 90/150\n",
            "1/1 - 8s - loss: 0.6031 - accuracy: 0.8421 - val_loss: 0.2609 - val_accuracy: 1.0000 - 8s/epoch - 8s/step\n",
            "Epoch 91/150\n",
            "1/1 - 8s - loss: 0.5914 - accuracy: 0.8421 - val_loss: 0.2399 - val_accuracy: 1.0000 - 8s/epoch - 8s/step\n",
            "Epoch 92/150\n",
            "1/1 - 8s - loss: 0.5570 - accuracy: 0.8289 - val_loss: 0.2054 - val_accuracy: 1.0000 - 8s/epoch - 8s/step\n",
            "Epoch 93/150\n",
            "1/1 - 7s - loss: 0.4862 - accuracy: 0.8640 - val_loss: 0.2031 - val_accuracy: 1.0000 - 7s/epoch - 7s/step\n",
            "Epoch 94/150\n",
            "1/1 - 7s - loss: 0.4639 - accuracy: 0.8465 - val_loss: 0.2133 - val_accuracy: 0.9167 - 7s/epoch - 7s/step\n",
            "Epoch 95/150\n",
            "1/1 - 7s - loss: 0.4624 - accuracy: 0.8816 - val_loss: 0.1696 - val_accuracy: 1.0000 - 7s/epoch - 7s/step\n",
            "Epoch 96/150\n",
            "1/1 - 7s - loss: 0.4391 - accuracy: 0.8772 - val_loss: 0.1347 - val_accuracy: 1.0000 - 7s/epoch - 7s/step\n",
            "Epoch 97/150\n",
            "1/1 - 8s - loss: 0.4736 - accuracy: 0.8465 - val_loss: 0.1368 - val_accuracy: 1.0000 - 8s/epoch - 8s/step\n",
            "Epoch 98/150\n",
            "1/1 - 8s - loss: 0.4064 - accuracy: 0.8772 - val_loss: 0.1373 - val_accuracy: 1.0000 - 8s/epoch - 8s/step\n",
            "Epoch 99/150\n",
            "1/1 - 8s - loss: 0.4494 - accuracy: 0.8640 - val_loss: 0.1071 - val_accuracy: 1.0000 - 8s/epoch - 8s/step\n",
            "Epoch 100/150\n",
            "1/1 - 8s - loss: 0.3718 - accuracy: 0.9035 - val_loss: 0.0955 - val_accuracy: 1.0000 - 8s/epoch - 8s/step\n",
            "Epoch 101/150\n",
            "1/1 - 8s - loss: 0.4067 - accuracy: 0.8772 - val_loss: 0.1058 - val_accuracy: 1.0000 - 8s/epoch - 8s/step\n",
            "Epoch 102/150\n",
            "1/1 - 8s - loss: 0.3599 - accuracy: 0.8772 - val_loss: 0.1147 - val_accuracy: 1.0000 - 8s/epoch - 8s/step\n",
            "Epoch 103/150\n",
            "1/1 - 8s - loss: 0.3279 - accuracy: 0.9211 - val_loss: 0.1034 - val_accuracy: 1.0000 - 8s/epoch - 8s/step\n",
            "Epoch 104/150\n",
            "1/1 - 8s - loss: 0.3026 - accuracy: 0.9167 - val_loss: 0.0981 - val_accuracy: 1.0000 - 8s/epoch - 8s/step\n",
            "Epoch 105/150\n",
            "1/1 - 8s - loss: 0.3208 - accuracy: 0.9211 - val_loss: 0.0974 - val_accuracy: 1.0000 - 8s/epoch - 8s/step\n",
            "Epoch 106/150\n",
            "1/1 - 8s - loss: 0.3291 - accuracy: 0.9167 - val_loss: 0.1033 - val_accuracy: 1.0000 - 8s/epoch - 8s/step\n",
            "Epoch 107/150\n",
            "1/1 - 8s - loss: 0.2432 - accuracy: 0.9430 - val_loss: 0.1215 - val_accuracy: 1.0000 - 8s/epoch - 8s/step\n",
            "Epoch 108/150\n",
            "1/1 - 8s - loss: 0.2449 - accuracy: 0.9561 - val_loss: 0.1291 - val_accuracy: 1.0000 - 8s/epoch - 8s/step\n",
            "Epoch 109/150\n",
            "1/1 - 8s - loss: 0.2793 - accuracy: 0.9254 - val_loss: 0.0919 - val_accuracy: 1.0000 - 8s/epoch - 8s/step\n",
            "Epoch 110/150\n",
            "1/1 - 8s - loss: 0.2394 - accuracy: 0.9342 - val_loss: 0.0598 - val_accuracy: 1.0000 - 8s/epoch - 8s/step\n",
            "Epoch 111/150\n",
            "1/1 - 8s - loss: 0.2205 - accuracy: 0.9430 - val_loss: 0.0481 - val_accuracy: 1.0000 - 8s/epoch - 8s/step\n",
            "Epoch 112/150\n",
            "1/1 - 8s - loss: 0.2446 - accuracy: 0.9474 - val_loss: 0.0458 - val_accuracy: 1.0000 - 8s/epoch - 8s/step\n",
            "Epoch 113/150\n",
            "1/1 - 8s - loss: 0.1921 - accuracy: 0.9561 - val_loss: 0.0569 - val_accuracy: 1.0000 - 8s/epoch - 8s/step\n",
            "Epoch 114/150\n",
            "1/1 - 8s - loss: 0.2393 - accuracy: 0.9211 - val_loss: 0.0883 - val_accuracy: 1.0000 - 8s/epoch - 8s/step\n",
            "Epoch 115/150\n",
            "1/1 - 8s - loss: 0.1824 - accuracy: 0.9518 - val_loss: 0.0697 - val_accuracy: 1.0000 - 8s/epoch - 8s/step\n",
            "Epoch 116/150\n",
            "1/1 - 8s - loss: 0.1787 - accuracy: 0.9561 - val_loss: 0.0334 - val_accuracy: 1.0000 - 8s/epoch - 8s/step\n",
            "Epoch 117/150\n",
            "1/1 - 8s - loss: 0.1850 - accuracy: 0.9605 - val_loss: 0.0239 - val_accuracy: 1.0000 - 8s/epoch - 8s/step\n",
            "Epoch 118/150\n",
            "1/1 - 8s - loss: 0.1485 - accuracy: 0.9474 - val_loss: 0.0215 - val_accuracy: 1.0000 - 8s/epoch - 8s/step\n",
            "Epoch 119/150\n",
            "1/1 - 8s - loss: 0.1929 - accuracy: 0.9386 - val_loss: 0.0231 - val_accuracy: 1.0000 - 8s/epoch - 8s/step\n",
            "Epoch 120/150\n",
            "1/1 - 8s - loss: 0.1763 - accuracy: 0.9474 - val_loss: 0.0330 - val_accuracy: 1.0000 - 8s/epoch - 8s/step\n",
            "Epoch 121/150\n",
            "1/1 - 8s - loss: 0.1789 - accuracy: 0.9518 - val_loss: 0.0402 - val_accuracy: 1.0000 - 8s/epoch - 8s/step\n",
            "Epoch 122/150\n",
            "1/1 - 8s - loss: 0.1993 - accuracy: 0.9298 - val_loss: 0.0353 - val_accuracy: 1.0000 - 8s/epoch - 8s/step\n",
            "Epoch 123/150\n",
            "1/1 - 8s - loss: 0.2019 - accuracy: 0.9298 - val_loss: 0.0193 - val_accuracy: 1.0000 - 8s/epoch - 8s/step\n",
            "Epoch 124/150\n",
            "1/1 - 8s - loss: 0.1669 - accuracy: 0.9649 - val_loss: 0.0167 - val_accuracy: 1.0000 - 8s/epoch - 8s/step\n",
            "Epoch 125/150\n",
            "1/1 - 8s - loss: 0.1265 - accuracy: 0.9649 - val_loss: 0.0170 - val_accuracy: 1.0000 - 8s/epoch - 8s/step\n",
            "Epoch 126/150\n",
            "1/1 - 8s - loss: 0.1546 - accuracy: 0.9605 - val_loss: 0.0204 - val_accuracy: 1.0000 - 8s/epoch - 8s/step\n",
            "Epoch 127/150\n",
            "1/1 - 8s - loss: 0.1056 - accuracy: 0.9912 - val_loss: 0.0278 - val_accuracy: 1.0000 - 8s/epoch - 8s/step\n",
            "Epoch 128/150\n",
            "1/1 - 8s - loss: 0.1523 - accuracy: 0.9561 - val_loss: 0.0368 - val_accuracy: 1.0000 - 8s/epoch - 8s/step\n",
            "Epoch 129/150\n",
            "1/1 - 8s - loss: 0.1108 - accuracy: 0.9737 - val_loss: 0.0465 - val_accuracy: 1.0000 - 8s/epoch - 8s/step\n",
            "Epoch 130/150\n",
            "1/1 - 8s - loss: 0.1821 - accuracy: 0.9430 - val_loss: 0.0334 - val_accuracy: 1.0000 - 8s/epoch - 8s/step\n",
            "Epoch 131/150\n",
            "1/1 - 8s - loss: 0.1335 - accuracy: 0.9605 - val_loss: 0.0253 - val_accuracy: 1.0000 - 8s/epoch - 8s/step\n",
            "Epoch 132/150\n",
            "1/1 - 8s - loss: 0.0999 - accuracy: 0.9912 - val_loss: 0.0205 - val_accuracy: 1.0000 - 8s/epoch - 8s/step\n",
            "Epoch 133/150\n",
            "1/1 - 8s - loss: 0.1129 - accuracy: 0.9649 - val_loss: 0.0184 - val_accuracy: 1.0000 - 8s/epoch - 8s/step\n",
            "Epoch 134/150\n",
            "1/1 - 8s - loss: 0.1151 - accuracy: 0.9737 - val_loss: 0.0182 - val_accuracy: 1.0000 - 8s/epoch - 8s/step\n",
            "Epoch 135/150\n",
            "1/1 - 8s - loss: 0.0907 - accuracy: 0.9825 - val_loss: 0.0192 - val_accuracy: 1.0000 - 8s/epoch - 8s/step\n",
            "Epoch 136/150\n",
            "1/1 - 8s - loss: 0.0807 - accuracy: 0.9956 - val_loss: 0.0202 - val_accuracy: 1.0000 - 8s/epoch - 8s/step\n",
            "Epoch 137/150\n",
            "1/1 - 8s - loss: 0.1183 - accuracy: 0.9693 - val_loss: 0.0169 - val_accuracy: 1.0000 - 8s/epoch - 8s/step\n",
            "Epoch 138/150\n",
            "1/1 - 8s - loss: 0.0783 - accuracy: 0.9868 - val_loss: 0.0154 - val_accuracy: 1.0000 - 8s/epoch - 8s/step\n",
            "Epoch 139/150\n",
            "1/1 - 8s - loss: 0.1011 - accuracy: 0.9825 - val_loss: 0.0142 - val_accuracy: 1.0000 - 8s/epoch - 8s/step\n",
            "Epoch 140/150\n",
            "1/1 - 8s - loss: 0.0623 - accuracy: 0.9912 - val_loss: 0.0133 - val_accuracy: 1.0000 - 8s/epoch - 8s/step\n",
            "Epoch 141/150\n",
            "1/1 - 8s - loss: 0.0658 - accuracy: 0.9912 - val_loss: 0.0135 - val_accuracy: 1.0000 - 8s/epoch - 8s/step\n",
            "Epoch 142/150\n",
            "1/1 - 8s - loss: 0.0719 - accuracy: 0.9912 - val_loss: 0.0151 - val_accuracy: 1.0000 - 8s/epoch - 8s/step\n",
            "Epoch 143/150\n",
            "1/1 - 8s - loss: 0.0728 - accuracy: 0.9825 - val_loss: 0.0142 - val_accuracy: 1.0000 - 8s/epoch - 8s/step\n",
            "Epoch 144/150\n",
            "1/1 - 8s - loss: 0.0804 - accuracy: 0.9868 - val_loss: 0.0092 - val_accuracy: 1.0000 - 8s/epoch - 8s/step\n",
            "Epoch 145/150\n",
            "1/1 - 8s - loss: 0.0677 - accuracy: 0.9868 - val_loss: 0.0056 - val_accuracy: 1.0000 - 8s/epoch - 8s/step\n",
            "Epoch 146/150\n",
            "1/1 - 8s - loss: 0.0695 - accuracy: 0.9825 - val_loss: 0.0048 - val_accuracy: 1.0000 - 8s/epoch - 8s/step\n",
            "Epoch 147/150\n",
            "1/1 - 8s - loss: 0.0675 - accuracy: 0.9825 - val_loss: 0.0047 - val_accuracy: 1.0000 - 8s/epoch - 8s/step\n",
            "Epoch 148/150\n",
            "1/1 - 8s - loss: 0.0756 - accuracy: 0.9825 - val_loss: 0.0051 - val_accuracy: 1.0000 - 8s/epoch - 8s/step\n",
            "Epoch 149/150\n",
            "1/1 - 8s - loss: 0.0607 - accuracy: 0.9868 - val_loss: 0.0076 - val_accuracy: 1.0000 - 8s/epoch - 8s/step\n",
            "Epoch 150/150\n",
            "1/1 - 8s - loss: 0.0368 - accuracy: 1.0000 - val_loss: 0.0109 - val_accuracy: 1.0000 - 8s/epoch - 8s/step\n"
          ]
        }
      ]
    },
    {
      "cell_type": "code",
      "source": [
        "#Evaluate Test data\n",
        "score = cnn_model.evaluate( np.array(x_test),  np.array(y_test), verbose=0)\n",
        "\n",
        "print('test los {:.4f}'.format(score[0]))\n",
        "print('test acc {:.4f}'.format(score[1]))"
      ],
      "metadata": {
        "colab": {
          "base_uri": "https://localhost:8080/",
          "height": 0
        },
        "id": "8ngiBM_P_izb",
        "outputId": "a2adb71a-59c3-44df-df22-4dba2fde2463"
      },
      "execution_count": 99,
      "outputs": [
        {
          "output_type": "stream",
          "name": "stdout",
          "text": [
            "test los 0.2777\n",
            "test acc 0.9438\n"
          ]
        }
      ]
    },
    {
      "cell_type": "code",
      "source": [
        "# list all data in history\n",
        "print(history.history.keys())"
      ],
      "metadata": {
        "colab": {
          "base_uri": "https://localhost:8080/",
          "height": 0
        },
        "id": "GixARTp73Y_U",
        "outputId": "8a550f5d-2c41-493e-a98d-45b9cbadedd7"
      },
      "execution_count": 100,
      "outputs": [
        {
          "output_type": "stream",
          "name": "stdout",
          "text": [
            "dict_keys(['loss', 'accuracy', 'val_loss', 'val_accuracy'])\n"
          ]
        }
      ]
    },
    {
      "cell_type": "code",
      "source": [
        "# summarize history for accuracy\n",
        "plt.plot(history.history['accuracy'])\n",
        "plt.plot(history.history['val_accuracy'])\n",
        "plt.title('model accuracy')\n",
        "plt.ylabel('accuracy')\n",
        "plt.xlabel('epoch')\n",
        "plt.legend(['train', 'test'], loc='upper left')\n",
        "plt.show()\n",
        "# summarize history for loss\n",
        "plt.plot(history.history['loss'])\n",
        "plt.plot(history.history['val_loss'])\n",
        "plt.title('model loss')\n",
        "plt.ylabel('loss')\n",
        "plt.xlabel('epoch')\n",
        "plt.legend(['train', 'test'], loc='upper left')\n",
        "plt.show()"
      ],
      "metadata": {
        "colab": {
          "base_uri": "https://localhost:8080/",
          "height": 573
        },
        "id": "w2HY8DRI3euQ",
        "outputId": "379693a4-e454-4699-8226-bbe77d9117d1"
      },
      "execution_count": 101,
      "outputs": [
        {
          "output_type": "display_data",
          "data": {
            "text/plain": [
              "<Figure size 432x288 with 1 Axes>"
            ],
            "image/png": "[encoded data removed]"
          },
          "metadata": {
            "needs_background": "light"
          }
        },
        {
          "output_type": "display_data",
          "data": {
            "text/plain": [
              "<Figure size 432x288 with 1 Axes>"
            ],
            "image/png": "[encoded data removed]"
          },
          "metadata": {
            "needs_background": "light"
          }
        }
      ]
    },
    {
      "cell_type": "code",
      "source": [
        "predicted =np.array( cnn_model.predict(x_test))\n",
        "#print(predicted)\n",
        "#print(y_test)\n",
        "ynew = cnn_model.predict(x_test)\n",
        "\n",
        "#predict_x=model.predict(X_test) \n",
        "classes_x=np.argmax(ynew,axis=1)\n",
        "Acc=accuracy_score(y_test,classes_x)\n",
        "print(\"accuracy : \")\n",
        "print(Acc)\n",
        "#/tn, fp, fn, tp = confusion_matrix(np.array(y_test), ynew).ravel()\n",
        "cnf_matrix=confusion_matrix(np.array(y_test), classes_x)\n",
        "\n",
        "y_test1 = np_utils.to_categorical(y_test, 20)\n",
        "\n",
        "\n",
        "\n",
        "def plot_confusion_matrix(cm, classes,\n",
        "                          normalize=False,\n",
        "                          title='Confusion matrix',\n",
        "                          cmap=plt.cm.Blues):\n",
        "    \"\"\"\n",
        "    This function prints and plots the confusion matrix.\n",
        "    Normalization can be applied by setting `normalize=True`.\n",
        "    \"\"\"\n",
        "    if normalize:\n",
        "        cm = cm.astype('float') / cm.sum(axis=1)[:, np.newaxis]\n",
        "        #print(\"Normalized confusion matrix\")\n",
        "    else:\n",
        "        print('Confusion matrix, without normalization')\n",
        "\n",
        "    #print(cm)\n",
        "    plt.imshow(cm, interpolation='nearest', cmap=cmap)\n",
        "    plt.title(title)\n",
        "    plt.colorbar()\n",
        "    tick_marks = np.arange(len(classes))\n",
        "    plt.xticks(tick_marks, classes, rotation=45)\n",
        "    plt.yticks(tick_marks, classes)\n",
        "\n",
        "    fmt = '.2f' if normalize else 'd'\n",
        "    thresh = cm.max() / 2.\n",
        "    for i, j in itertools.product(range(cm.shape[0]), range(cm.shape[1])):\n",
        "        plt.text(j, i, format(cm[i, j], fmt),\n",
        "                 horizontalalignment=\"center\",\n",
        "                 color=\"white\" if cm[i, j] > thresh else \"black\")\n",
        "\n",
        "    plt.tight_layout()\n",
        "    plt.ylabel('True label')\n",
        "    plt.xlabel('Predicted label')\n",
        "    plt.show()\n",
        "\n",
        "\n",
        "print('Confusion matrix, without normalization')\n",
        "print(cnf_matrix)\n",
        "\n",
        "plt.figure()\n",
        "plot_confusion_matrix(cnf_matrix[1:10,1:10], classes=[0,1,2,3,4,5,6,7,8,9],\n",
        "                      title='Confusion matrix, without normalization')\n",
        "\n",
        "plt.figure()\n",
        "plot_confusion_matrix(cnf_matrix[11:20,11:20], classes=[10,11,12,13,14,15,16,17,18,19],\n",
        "                      title='Confusion matrix, without normalization')\n",
        "\n",
        "print(\"Confusion matrix:\\n%s\" % confusion_matrix(np.array(y_test), classes_x))\n",
        "print(classification_report(np.array(y_test), classes_x))"
      ],
      "metadata": {
        "colab": {
          "base_uri": "https://localhost:8080/",
          "height": 1872
        },
        "id": "XY6R1UfRekQc",
        "outputId": "d802626d-7ce3-4d46-ffb1-601088b84901"
      },
      "execution_count": 108,
      "outputs": [
        {
          "output_type": "stream",
          "name": "stdout",
          "text": [
            "accuracy : \n",
            "0.94375\n",
            "Confusion matrix, without normalization\n",
            "[[8 0 0 0 0 0 0 0 0 0 0 0 0 0 0 0 0 0 0 0]\n",
            " [0 8 0 0 0 0 0 0 0 0 0 0 0 0 0 0 0 0 0 0]\n",
            " [0 0 8 0 0 0 0 0 0 0 0 0 0 0 0 0 0 0 0 0]\n",
            " [0 0 0 8 0 0 0 0 0 0 0 0 0 0 0 0 0 0 0 0]\n",
            " [0 0 0 0 6 0 0 0 0 0 0 0 0 0 0 0 0 2 0 0]\n",
            " [0 0 0 0 0 8 0 0 0 0 0 0 0 0 0 0 0 0 0 0]\n",
            " [0 0 0 0 0 0 8 0 0 0 0 0 0 0 0 0 0 0 0 0]\n",
            " [0 0 0 0 0 0 0 8 0 0 0 0 0 0 0 0 0 0 0 0]\n",
            " [0 0 0 0 0 0 0 0 8 0 0 0 0 0 0 0 0 0 0 0]\n",
            " [0 0 0 0 0 0 0 2 0 6 0 0 0 0 0 0 0 0 0 0]\n",
            " [0 0 0 0 0 0 0 0 0 0 8 0 0 0 0 0 0 0 0 0]\n",
            " [0 0 0 0 0 0 0 0 0 0 0 8 0 0 0 0 0 0 0 0]\n",
            " [0 0 0 0 0 0 0 0 0 0 0 0 8 0 0 0 0 0 0 0]\n",
            " [0 0 0 0 0 0 0 0 0 0 0 0 0 8 0 0 0 0 0 0]\n",
            " [0 0 0 0 0 0 0 0 0 0 0 0 0 0 8 0 0 0 0 0]\n",
            " [2 0 0 0 0 0 0 0 0 0 0 0 1 0 0 5 0 0 0 0]\n",
            " [0 0 0 0 0 0 0 0 0 0 0 0 0 0 0 0 8 0 0 0]\n",
            " [0 0 0 0 0 0 0 0 0 0 0 0 0 0 0 0 0 8 0 0]\n",
            " [0 0 0 0 0 0 0 0 0 0 2 0 0 0 0 0 0 0 6 0]\n",
            " [0 0 0 0 0 0 0 0 0 0 0 0 0 0 0 0 0 0 0 8]]\n",
            "Confusion matrix, without normalization\n"
          ]
        },
        {
          "output_type": "display_data",
          "data": {
            "text/plain": [
              "<Figure size 432x288 with 2 Axes>"
            ],
            "image/png": "[encoded data removed]"
          },
          "metadata": {
            "needs_background": "light"
          }
        },
        {
          "output_type": "stream",
          "name": "stdout",
          "text": [
            "Confusion matrix, without normalization\n"
          ]
        },
        {
          "output_type": "display_data",
          "data": {
            "text/plain": [
              "<Figure size 432x288 with 2 Axes>"
            ],
            "image/png": "[encoded data removed]"
          },
          "metadata": {
            "needs_background": "light"
          }
        },
        {
          "output_type": "stream",
          "name": "stdout",
          "text": [
            "Confusion matrix:\n",
            "[[8 0 0 0 0 0 0 0 0 0 0 0 0 0 0 0 0 0 0 0]\n",
            " [0 8 0 0 0 0 0 0 0 0 0 0 0 0 0 0 0 0 0 0]\n",
            " [0 0 8 0 0 0 0 0 0 0 0 0 0 0 0 0 0 0 0 0]\n",
            " [0 0 0 8 0 0 0 0 0 0 0 0 0 0 0 0 0 0 0 0]\n",
            " [0 0 0 0 6 0 0 0 0 0 0 0 0 0 0 0 0 2 0 0]\n",
            " [0 0 0 0 0 8 0 0 0 0 0 0 0 0 0 0 0 0 0 0]\n",
            " [0 0 0 0 0 0 8 0 0 0 0 0 0 0 0 0 0 0 0 0]\n",
            " [0 0 0 0 0 0 0 8 0 0 0 0 0 0 0 0 0 0 0 0]\n",
            " [0 0 0 0 0 0 0 0 8 0 0 0 0 0 0 0 0 0 0 0]\n",
            " [0 0 0 0 0 0 0 2 0 6 0 0 0 0 0 0 0 0 0 0]\n",
            " [0 0 0 0 0 0 0 0 0 0 8 0 0 0 0 0 0 0 0 0]\n",
            " [0 0 0 0 0 0 0 0 0 0 0 8 0 0 0 0 0 0 0 0]\n",
            " [0 0 0 0 0 0 0 0 0 0 0 0 8 0 0 0 0 0 0 0]\n",
            " [0 0 0 0 0 0 0 0 0 0 0 0 0 8 0 0 0 0 0 0]\n",
            " [0 0 0 0 0 0 0 0 0 0 0 0 0 0 8 0 0 0 0 0]\n",
            " [2 0 0 0 0 0 0 0 0 0 0 0 1 0 0 5 0 0 0 0]\n",
            " [0 0 0 0 0 0 0 0 0 0 0 0 0 0 0 0 8 0 0 0]\n",
            " [0 0 0 0 0 0 0 0 0 0 0 0 0 0 0 0 0 8 0 0]\n",
            " [0 0 0 0 0 0 0 0 0 0 2 0 0 0 0 0 0 0 6 0]\n",
            " [0 0 0 0 0 0 0 0 0 0 0 0 0 0 0 0 0 0 0 8]]\n",
            "              precision    recall  f1-score   support\n",
            "\n",
            "           0       0.80      1.00      0.89         8\n",
            "           1       1.00      1.00      1.00         8\n",
            "           2       1.00      1.00      1.00         8\n",
            "           3       1.00      1.00      1.00         8\n",
            "           4       1.00      0.75      0.86         8\n",
            "           5       1.00      1.00      1.00         8\n",
            "           6       1.00      1.00      1.00         8\n",
            "           7       0.80      1.00      0.89         8\n",
            "           8       1.00      1.00      1.00         8\n",
            "           9       1.00      0.75      0.86         8\n",
            "          10       0.80      1.00      0.89         8\n",
            "          11       1.00      1.00      1.00         8\n",
            "          12       0.89      1.00      0.94         8\n",
            "          13       1.00      1.00      1.00         8\n",
            "          14       1.00      1.00      1.00         8\n",
            "          15       1.00      0.62      0.77         8\n",
            "          16       1.00      1.00      1.00         8\n",
            "          17       0.80      1.00      0.89         8\n",
            "          18       1.00      0.75      0.86         8\n",
            "          19       1.00      1.00      1.00         8\n",
            "\n",
            "    accuracy                           0.94       160\n",
            "   macro avg       0.95      0.94      0.94       160\n",
            "weighted avg       0.95      0.94      0.94       160\n",
            "\n"
          ]
        }
      ]
    }
  ]
}